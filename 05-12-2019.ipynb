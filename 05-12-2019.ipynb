{
 "cells": [
  {
   "cell_type": "markdown",
   "metadata": {},
   "source": [
    "### List and List related examples"
   ]
  },
  {
   "cell_type": "code",
   "execution_count": 11,
   "metadata": {},
   "outputs": [
    {
     "name": "stdout",
     "output_type": "stream",
     "text": [
      "5\n"
     ]
    }
   ],
   "source": [
    "li=[1,2,3,4,5]\n",
    "print(len(li)) #len() will return the length of the list"
   ]
  },
  {
   "cell_type": "code",
   "execution_count": 3,
   "metadata": {},
   "outputs": [
    {
     "name": "stdout",
     "output_type": "stream",
     "text": [
      "[1, 2, 1954, 4, 5]\n"
     ]
    }
   ],
   "source": [
    "li[2]= 1954 #Updating the list value\n",
    "print(li)"
   ]
  },
  {
   "cell_type": "code",
   "execution_count": 4,
   "metadata": {},
   "outputs": [],
   "source": [
    "del li[3] #del the specific index value\n",
    "# del li will delete the entire list"
   ]
  },
  {
   "cell_type": "code",
   "execution_count": 5,
   "metadata": {},
   "outputs": [
    {
     "name": "stdout",
     "output_type": "stream",
     "text": [
      "[1, 2, 1954, 5]\n"
     ]
    }
   ],
   "source": [
    "print(li)"
   ]
  },
  {
   "cell_type": "code",
   "execution_count": 13,
   "metadata": {},
   "outputs": [
    {
     "name": "stdout",
     "output_type": "stream",
     "text": [
      "5\n",
      "4\n",
      "[2, 3, 4]\n",
      "[4]\n"
     ]
    }
   ],
   "source": [
    "print(li[-1])# To access the last item of the list\n",
    "print(li[-2])\n",
    "print(li[1:4])# List slicing\n",
    "print(li[3:4])"
   ]
  },
  {
   "cell_type": "code",
   "execution_count": 12,
   "metadata": {},
   "outputs": [
    {
     "name": "stdout",
     "output_type": "stream",
     "text": [
      "15\n",
      "1\n",
      "5\n",
      "3\n"
     ]
    }
   ],
   "source": [
    "print(sum(li)) # sum of elements of list\n",
    "print(min(li)) # Minimum value of the list\n",
    "print(max(li)) # Maximum value of the list\n",
    "print(sum(li) // len(li)) # Average value of the list\n",
    "# Find the output as the avg of alternate numbers"
   ]
  },
  {
   "cell_type": "markdown",
   "metadata": {},
   "source": [
    "### List Methods"
   ]
  },
  {
   "cell_type": "code",
   "execution_count": 14,
   "metadata": {},
   "outputs": [
    {
     "data": {
      "text/plain": [
       "[1, 2, 3, 4, 5, 100]"
      ]
     },
     "execution_count": 14,
     "metadata": {},
     "output_type": "execute_result"
    }
   ],
   "source": [
    "li.append(100) # Append will insert the new item at the end\n",
    "li"
   ]
  },
  {
   "cell_type": "code",
   "execution_count": 15,
   "metadata": {},
   "outputs": [
    {
     "data": {
      "text/plain": [
       "[1, 2, 3, 59, 4, 5, 100]"
      ]
     },
     "execution_count": 15,
     "metadata": {},
     "output_type": "execute_result"
    }
   ],
   "source": [
    "li.insert(3,59) # Inserts the new item at any specified postion\n",
    "li"
   ]
  },
  {
   "cell_type": "code",
   "execution_count": 16,
   "metadata": {},
   "outputs": [
    {
     "data": {
      "text/plain": [
       "1"
      ]
     },
     "execution_count": 16,
     "metadata": {},
     "output_type": "execute_result"
    }
   ],
   "source": [
    "li.count(100)"
   ]
  },
  {
   "cell_type": "code",
   "execution_count": 21,
   "metadata": {},
   "outputs": [
    {
     "name": "stdout",
     "output_type": "stream",
     "text": [
      "Index =  "
     ]
    },
    {
     "data": {
      "text/plain": [
       "3"
      ]
     },
     "execution_count": 21,
     "metadata": {},
     "output_type": "execute_result"
    }
   ],
   "source": [
    "print(\"Index = \", end = ' ')\n",
    "li.index(59) # Index gives the position of a specific item\n"
   ]
  },
  {
   "cell_type": "code",
   "execution_count": 22,
   "metadata": {},
   "outputs": [
    {
     "data": {
      "text/plain": [
       "[1, 2, 3, 4, 5, 59, 100]"
      ]
     },
     "execution_count": 22,
     "metadata": {},
     "output_type": "execute_result"
    }
   ],
   "source": [
    "li.sort() # Sorts the entire list\n",
    "li"
   ]
  },
  {
   "cell_type": "code",
   "execution_count": 32,
   "metadata": {},
   "outputs": [
    {
     "data": {
      "text/plain": [
       "[1, 2, 3, 4, 5]"
      ]
     },
     "execution_count": 32,
     "metadata": {},
     "output_type": "execute_result"
    }
   ],
   "source": [
    "li.pop() # Pop removes the value at the last of the list\n",
    "li"
   ]
  },
  {
   "cell_type": "code",
   "execution_count": 44,
   "metadata": {},
   "outputs": [
    {
     "data": {
      "text/plain": [
       "25"
      ]
     },
     "execution_count": 44,
     "metadata": {},
     "output_type": "execute_result"
    }
   ],
   "source": [
    "# Define a function to print the second largest number of a list\n",
    "# Input -- li[1,9,16,25,2,3,65]\n",
    "# Output -- 25 \n",
    "\n",
    "def secondLarge(li):\n",
    "    li.sort()\n",
    "    return li[-2]\n",
    "li=[1,9,16,25,2,3,65]\n",
    "secondLarge(li)"
   ]
  },
  {
   "cell_type": "code",
   "execution_count": 45,
   "metadata": {},
   "outputs": [
    {
     "data": {
      "text/plain": [
       "2"
      ]
     },
     "execution_count": 45,
     "metadata": {},
     "output_type": "execute_result"
    }
   ],
   "source": [
    "def genericLarge(li,n):\n",
    "    li.sort()\n",
    "    return li[-n]\n",
    "li=[1,9,16,25,2,3,65]\n",
    "genericLeast(li,1)"
   ]
  },
  {
   "cell_type": "code",
   "execution_count": 46,
   "metadata": {},
   "outputs": [
    {
     "data": {
      "text/plain": [
       "1"
      ]
     },
     "execution_count": 46,
     "metadata": {},
     "output_type": "execute_result"
    }
   ],
   "source": [
    "def genericLeast(li,n):\n",
    "    li.sort()\n",
    "    return li[n]\n",
    "li=[1,9,16,25,2,3,65]\n",
    "genericLeast(li,0)"
   ]
  },
  {
   "cell_type": "markdown",
   "metadata": {},
   "source": [
    "### Number to List Conversion\n",
    "- 19563212 -- [1,9,5,6,3,2,1,2]"
   ]
  },
  {
   "cell_type": "code",
   "execution_count": 52,
   "metadata": {},
   "outputs": [
    {
     "data": {
      "text/plain": [
       "[1, 9, 5, 6, 3, 2, 1, 2]"
      ]
     },
     "execution_count": 52,
     "metadata": {},
     "output_type": "execute_result"
    }
   ],
   "source": [
    "def numberToList(n):\n",
    "    li=[] #Empty list\n",
    "    while n!= 0:\n",
    "        r = n % 10\n",
    "        li.append(r)\n",
    "        n = n // 10\n",
    "    li.reverse()\n",
    "    return li\n",
    "numberToList(19563212)"
   ]
  },
  {
   "cell_type": "markdown",
   "metadata": {},
   "source": [
    "### Data Structures - Tuples\n",
    "- It is similar to List\n",
    "- List will be enclosed inside square brackets [ ]\n",
    "- Tuples will be enclosed inside paranthesis ( )\n",
    "- List can be increased or decreased\n",
    "- Tuples can't be increased or decreased\n",
    "- Lists are Mutable but Tuples are Immutable\n",
    "- Lists are used for Read/Write but Tuples are used only for Reading"
   ]
  },
  {
   "cell_type": "code",
   "execution_count": 53,
   "metadata": {},
   "outputs": [
    {
     "data": {
      "text/plain": [
       "(1, 2, 3, 4, 5)"
      ]
     },
     "execution_count": 53,
     "metadata": {},
     "output_type": "execute_result"
    }
   ],
   "source": [
    "t1=(1,2,3,4,5)\n",
    "t1"
   ]
  },
  {
   "cell_type": "code",
   "execution_count": 54,
   "metadata": {},
   "outputs": [
    {
     "data": {
      "text/plain": [
       "(1, 2, 3, 4)"
      ]
     },
     "execution_count": 54,
     "metadata": {},
     "output_type": "execute_result"
    }
   ],
   "source": [
    "t1[0:4]"
   ]
  },
  {
   "cell_type": "code",
   "execution_count": 56,
   "metadata": {},
   "outputs": [
    {
     "ename": "TypeError",
     "evalue": "'tuple' object does not support item assignment",
     "output_type": "error",
     "traceback": [
      "\u001b[1;31m---------------------------------------------------------------------------\u001b[0m",
      "\u001b[1;31mTypeError\u001b[0m                                 Traceback (most recent call last)",
      "\u001b[1;32m<ipython-input-56-48d16e0f362b>\u001b[0m in \u001b[0;36m<module>\u001b[1;34m()\u001b[0m\n\u001b[1;32m----> 1\u001b[1;33m \u001b[0mt1\u001b[0m\u001b[1;33m[\u001b[0m\u001b[1;36m2\u001b[0m\u001b[1;33m]\u001b[0m\u001b[1;33m=\u001b[0m\u001b[1;36m123\u001b[0m\u001b[1;33m\u001b[0m\u001b[0m\n\u001b[0m",
      "\u001b[1;31mTypeError\u001b[0m: 'tuple' object does not support item assignment"
     ]
    }
   ],
   "source": [
    "t1[2]=123"
   ]
  },
  {
   "cell_type": "code",
   "execution_count": 58,
   "metadata": {},
   "outputs": [
    {
     "ename": "TypeError",
     "evalue": "'tuple' object doesn't support item deletion",
     "output_type": "error",
     "traceback": [
      "\u001b[1;31m---------------------------------------------------------------------------\u001b[0m",
      "\u001b[1;31mTypeError\u001b[0m                                 Traceback (most recent call last)",
      "\u001b[1;32m<ipython-input-58-0b6d2f63c6b8>\u001b[0m in \u001b[0;36m<module>\u001b[1;34m()\u001b[0m\n\u001b[1;32m----> 1\u001b[1;33m \u001b[1;32mdel\u001b[0m \u001b[0mt1\u001b[0m\u001b[1;33m[\u001b[0m\u001b[1;36m3\u001b[0m\u001b[1;33m]\u001b[0m\u001b[1;33m\u001b[0m\u001b[0m\n\u001b[0m",
      "\u001b[1;31mTypeError\u001b[0m: 'tuple' object doesn't support item deletion"
     ]
    }
   ],
   "source": [
    "del t1[3]"
   ]
  },
  {
   "cell_type": "markdown",
   "metadata": {},
   "source": [
    "### Data Structure - Dictionaries\n",
    "- This data structure object works on set of key and values\n",
    "- A unique key set will be defined\n",
    "- Every key will be separated from it's value with a colon (:)\n",
    "- Every key value pair is seperated by comma (,)\n",
    "- Dictionary will be defined inside the curly braces { }\n",
    "- Dictionaries are Mutable"
   ]
  },
  {
   "cell_type": "code",
   "execution_count": 59,
   "metadata": {},
   "outputs": [
    {
     "name": "stdout",
     "output_type": "stream",
     "text": [
      "{'Name': 'Bhargav', 'EmailID': 'bhargavaram14@gmail.com', 'Mobile Number': '7893612597'}\n"
     ]
    }
   ],
   "source": [
    "d1={\"Name\":\"Bhargav\",\"EmailID\":\"bhargavaram14@gmail.com\",\"Mobile Number\":\"7893612597\"}\n",
    "print(d1)"
   ]
  },
  {
   "cell_type": "code",
   "execution_count": 60,
   "metadata": {},
   "outputs": [
    {
     "name": "stdout",
     "output_type": "stream",
     "text": [
      "bhargavaram14@gmail.com\n"
     ]
    }
   ],
   "source": [
    "print(d1[\"EmailID\"]) # To access the specific key value"
   ]
  },
  {
   "cell_type": "code",
   "execution_count": 61,
   "metadata": {},
   "outputs": [],
   "source": [
    "d1[\"Mobile Number\"] = 6301062654 # Updates the dictionary value"
   ]
  },
  {
   "cell_type": "code",
   "execution_count": 62,
   "metadata": {},
   "outputs": [],
   "source": [
    "del d1[\"Mobile Number\"] # Delete the specified key"
   ]
  },
  {
   "cell_type": "markdown",
   "metadata": {},
   "source": [
    "### Contact Application\n",
    " - Used Modules : Dictionary, List, Tuples\n",
    "#### Modules of Contact Application\n",
    "\n",
    " - Add Contacts\n",
    " - Search Contacts\n",
    " - Import new contacts\n",
    " - Update the contact details\n",
    " - Delete the contact details"
   ]
  },
  {
   "cell_type": "code",
   "execution_count": 65,
   "metadata": {},
   "outputs": [
    {
     "name": "stdout",
     "output_type": "stream",
     "text": [
      "Contact added\n",
      "Contact added\n",
      "Contact not added\n"
     ]
    }
   ],
   "source": [
    "#Define the Function for Add Contacts\n",
    "contacts = {} #Empty Dictionary Object\n",
    "def addContacts(name,phone):\n",
    "    if name not in contacts:\n",
    "        contacts[name] = phone\n",
    "        print(\"Contact added\")\n",
    "    else:\n",
    "        print(\"Contact not added\")\n",
    "    return\n",
    "addContacts('Bhargav',7893612597) # Contact Added\n",
    "addContacts('Paul',9988531248) # Contact Added\n",
    "addContacts('Paul',9988531248) # Contact not added\n"
   ]
  },
  {
   "cell_type": "code",
   "execution_count": 66,
   "metadata": {},
   "outputs": [
    {
     "data": {
      "text/plain": [
       "{'Bhargav': 7893612597, 'Paul': 9988531248}"
      ]
     },
     "execution_count": 66,
     "metadata": {},
     "output_type": "execute_result"
    }
   ],
   "source": [
    "contacts"
   ]
  },
  {
   "cell_type": "code",
   "execution_count": 69,
   "metadata": {},
   "outputs": [
    {
     "name": "stdout",
     "output_type": "stream",
     "text": [
      "Bhargav : 7893612597\n",
      "Paul : 9988531248\n",
      "Contact is not present\n"
     ]
    }
   ],
   "source": [
    "# Define funtion for Search contacts\n",
    "def searchContacts(name):\n",
    "    if name in contacts:\n",
    "        print(name , ':' , contacts[name])\n",
    "    else:\n",
    "        print('Contact is not present')\n",
    "    return \n",
    "searchContacts('Bhargav')\n",
    "searchContacts('Paul')\n",
    "searchContacts('Vishnu')"
   ]
  },
  {
   "cell_type": "code",
   "execution_count": 70,
   "metadata": {},
   "outputs": [
    {
     "name": "stdout",
     "output_type": "stream",
     "text": [
      "New contacts are added\n"
     ]
    }
   ],
   "source": [
    "# Define the function for import the new contacts\n",
    "def importNewContacts(newContacts):\n",
    "    contacts.update(newContacts)\n",
    "    print('New contacts are added')\n",
    "    return\n",
    "newContacts = {\"Vishnu\":9122579146,\"Tharun\":8845571365}\n",
    "importNewContacts(newContacts)"
   ]
  },
  {
   "cell_type": "code",
   "execution_count": 75,
   "metadata": {},
   "outputs": [
    {
     "name": "stdout",
     "output_type": "stream",
     "text": [
      "Contact update is successful\n",
      "Please add new contact details\n"
     ]
    }
   ],
   "source": [
    "# Define a function for Update details\n",
    "def updateDetails(name,phone):\n",
    "    if name in contacts:\n",
    "        contacts[name] = phone\n",
    "        print(\"Contact update is successful\")\n",
    "    else:\n",
    "        print(\"Please add new contact details\")\n",
    "    return\n",
    "updateDetails('Tharun',9988455656) # Update is successful\n",
    "updateDetails('Tushar',9988455656) # PLease add new details"
   ]
  },
  {
   "cell_type": "code",
   "execution_count": 77,
   "metadata": {},
   "outputs": [
    {
     "name": "stdout",
     "output_type": "stream",
     "text": [
      "Contact is deleted\n"
     ]
    }
   ],
   "source": [
    "# Define a function to delete the contact details\n",
    "def deleteContacts(name):\n",
    "    if name in contacts:\n",
    "        del contacts[name]\n",
    "        print('Contact is deleted')\n",
    "    else:\n",
    "        print('Contact not present')\n",
    "    return\n",
    "deleteContacts('Vishnu')"
   ]
  },
  {
   "cell_type": "code",
   "execution_count": 79,
   "metadata": {},
   "outputs": [
    {
     "data": {
      "text/plain": [
       "{'Bhargav': 7893612597, 'Paul': 9988531248, 'Tharun': 9988455656}"
      ]
     },
     "execution_count": 79,
     "metadata": {},
     "output_type": "execute_result"
    }
   ],
   "source": [
    "contacts"
   ]
  },
  {
   "cell_type": "markdown",
   "metadata": {},
   "source": [
    "### Features to be added\n",
    "- Verifying the number has 10 digits\n",
    "- Merging of contacts\n",
    "- Exporting contacs to External storage\n",
    "- Changing the format of the contacts\n",
    "- Able to save the contacts directly to the cloud services"
   ]
  },
  {
   "cell_type": "markdown",
   "metadata": {},
   "source": [
    "### String to List Conversion\n",
    "- \"1 2 3 4 5 6\" - [1,2,3,4,5,6]"
   ]
  },
  {
   "cell_type": "code",
   "execution_count": 86,
   "metadata": {},
   "outputs": [
    {
     "name": "stdout",
     "output_type": "stream",
     "text": [
      "['Application', 'Test', 'Working']\n"
     ]
    }
   ],
   "source": [
    "s = \"Application Test Working\"\n",
    "li = s.split()\n",
    "print(li)"
   ]
  },
  {
   "cell_type": "code",
   "execution_count": 87,
   "metadata": {},
   "outputs": [
    {
     "name": "stdout",
     "output_type": "stream",
     "text": [
      "['Git', 'm hyder', 'b', 'd Python Progr', 'mming']\n"
     ]
    }
   ],
   "source": [
    "s1 = \"Gitam hyderabad Python Programming\"\n",
    "li1 = s1.split('a')\n",
    "print(li1)"
   ]
  },
  {
   "cell_type": "code",
   "execution_count": 85,
   "metadata": {},
   "outputs": [
    {
     "name": "stdout",
     "output_type": "stream",
     "text": [
      "Enter the Numbers1 2 3 4 5 6\n"
     ]
    },
    {
     "data": {
      "text/plain": [
       "[1, 2, 3, 4, 5, 6]"
      ]
     },
     "execution_count": 85,
     "metadata": {},
     "output_type": "execute_result"
    }
   ],
   "source": [
    "# Define a function to convert String into List\n",
    "def stringToList(s):\n",
    "    li= s.split() #Empty list\n",
    "    numberList = []\n",
    "    for i in li:\n",
    "        numberList.append(int(i))\n",
    "    return numberList   \n",
    "s = input(\"Enter the Numbers\") # Divide the Input with white spaces\n",
    "stringToList(s)"
   ]
  },
  {
   "cell_type": "code",
   "execution_count": null,
   "metadata": {},
   "outputs": [],
   "source": []
  }
 ],
 "metadata": {
  "kernelspec": {
   "display_name": "Python 3",
   "language": "python",
   "name": "python3"
  },
  "language_info": {
   "codemirror_mode": {
    "name": "ipython",
    "version": 3
   },
   "file_extension": ".py",
   "mimetype": "text/x-python",
   "name": "python",
   "nbconvert_exporter": "python",
   "pygments_lexer": "ipython3",
   "version": "3.7.0"
  }
 },
 "nbformat": 4,
 "nbformat_minor": 2
}
