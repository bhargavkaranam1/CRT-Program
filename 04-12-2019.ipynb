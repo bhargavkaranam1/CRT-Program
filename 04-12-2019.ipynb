{
 "cells": [
  {
   "cell_type": "markdown",
   "metadata": {},
   "source": [
    "### Day Objectives\n",
    " - Loop examples\n",
    " - Functions (User defined functions)\n",
    " - List,Tuples and string"
   ]
  },
  {
   "cell_type": "code",
   "execution_count": 2,
   "metadata": {},
   "outputs": [],
   "source": [
    "# Read the number as input\n",
    "# Print the outputs as Digits of the number\n",
    "# Test cases :-\n",
    "# 145 -- 5 4 1\n",
    "# 123 -- 3 2 1"
   ]
  },
  {
   "cell_type": "code",
   "execution_count": 5,
   "metadata": {},
   "outputs": [
    {
     "name": "stdout",
     "output_type": "stream",
     "text": [
      "Enter the number521\n",
      "1 2 5 "
     ]
    }
   ],
   "source": [
    "a=int(input('Enter the number'))\n",
    "while a!=0 :\n",
    "    r = a % 10\n",
    "    print(r,end = ' ')\n",
    "    a = a // 10"
   ]
  },
  {
   "cell_type": "markdown",
   "metadata": {},
   "source": [
    "### Functions in Programming\n",
    " - Program will be divided into sub parts\n",
    " - It reuses the code for multiple times\n",
    " - Functions make the programming easier\n",
    " - def is keyword which is used to define the function\n",
    " - Function name follows camel case always\n",
    "    - fun()  isPalindrome()  isPalindromeCheck()\n",
    " - Definition of the function is given according to requirement\n",
    " - def FunctionName():\n",
    "    - Statements\n",
    "    - return"
   ]
  },
  {
   "cell_type": "code",
   "execution_count": 6,
   "metadata": {},
   "outputs": [],
   "source": [
    "# Read the input as a number\n",
    "# Print the output as the largest digit"
   ]
  },
  {
   "cell_type": "code",
   "execution_count": 2,
   "metadata": {},
   "outputs": [
    {
     "name": "stdout",
     "output_type": "stream",
     "text": [
      "Enter the Number59823\n"
     ]
    },
    {
     "data": {
      "text/plain": [
       "9"
      ]
     },
     "execution_count": 2,
     "metadata": {},
     "output_type": "execute_result"
    }
   ],
   "source": [
    "def largeDigit(n):\n",
    "    large=0\n",
    "    while n != 0:\n",
    "     r = n % 10\n",
    "     if large < r:\n",
    "            large = r\n",
    "     n = n // 10    \n",
    "    return large\n",
    "n=int(input('Enter the Number'))\n",
    "largeDigit(n)"
   ]
  },
  {
   "cell_type": "code",
   "execution_count": 4,
   "metadata": {},
   "outputs": [
    {
     "name": "stdout",
     "output_type": "stream",
     "text": [
      "Enter the number521\n"
     ]
    },
    {
     "data": {
      "text/plain": [
       "8"
      ]
     },
     "execution_count": 4,
     "metadata": {},
     "output_type": "execute_result"
    }
   ],
   "source": [
    "def sumOfDigits(n):\n",
    "    s=0\n",
    "    while n != 0:\n",
    "        r = n % 10\n",
    "        s = s + r\n",
    "        n = n // 10\n",
    "    return s\n",
    "n=int(input('Enter the number'))\n",
    "sumOfDigits(n)"
   ]
  },
  {
   "cell_type": "code",
   "execution_count": 5,
   "metadata": {},
   "outputs": [],
   "source": [
    "# Read the input as the Number\n",
    "# Print the output as whether the number is a \"Palindrome\" or \"Not Palindrome\""
   ]
  },
  {
   "cell_type": "code",
   "execution_count": 18,
   "metadata": {},
   "outputs": [
    {
     "name": "stdout",
     "output_type": "stream",
     "text": [
      "Enter the Number5228\n",
      "Not a Palindrome\n"
     ]
    }
   ],
   "source": [
    "def palindrome(n):\n",
    "    s=0\n",
    "    p=n\n",
    "    while n != 0:\n",
    "        r = n % 10\n",
    "        s = 10*s + r\n",
    "        n = n // 10\n",
    "    if s == p:\n",
    "            print(\"Palindrome\")\n",
    "    else :\n",
    "            print(\"Not a Palindrome\")\n",
    "    return       \n",
    "        \n",
    "n=int(input(\"Enter the Number\"))\n",
    "palindrome(n)"
   ]
  },
  {
   "cell_type": "code",
   "execution_count": null,
   "metadata": {},
   "outputs": [],
   "source": [
    "# Read the input as number\n",
    "# Print the largest number from the last 3 numbers of the digit\n",
    "# Testcases :-\n",
    "# 59852 -- 8\n",
    "# 175215 -- 5"
   ]
  },
  {
   "cell_type": "code",
   "execution_count": 1,
   "metadata": {},
   "outputs": [
    {
     "name": "stdout",
     "output_type": "stream",
     "text": [
      "Enter the number59852\n"
     ]
    },
    {
     "data": {
      "text/plain": [
       "8"
      ]
     },
     "execution_count": 1,
     "metadata": {},
     "output_type": "execute_result"
    }
   ],
   "source": [
    "def printLargeDigit(n):\n",
    "    large=0\n",
    "    i=0\n",
    "    while i != 3:\n",
    "        r = n % 10\n",
    "        if large < r:\n",
    "            large = r\n",
    "        n = n // 10\n",
    "        i = i + 1\n",
    "    return large\n",
    "n=int(input(\"Enter the number\"))\n",
    "printLargeDigit(n)"
   ]
  },
  {
   "cell_type": "markdown",
   "metadata": {},
   "source": [
    "### Data Structures in Python Programming\n",
    " - List\n",
    " - Tuples\n",
    " - Dictionaries\n",
    " - Sets"
   ]
  },
  {
   "cell_type": "code",
   "execution_count": 2,
   "metadata": {},
   "outputs": [
    {
     "name": "stdout",
     "output_type": "stream",
     "text": [
      "[1, 2, 3, 4, 5]\n"
     ]
    }
   ],
   "source": [
    "li=[1,2,3,4,5]\n",
    "print(li)"
   ]
  },
  {
   "cell_type": "code",
   "execution_count": 3,
   "metadata": {},
   "outputs": [
    {
     "name": "stdout",
     "output_type": "stream",
     "text": [
      "[1, 2, 'Gitam', 199, 189.2, 'Hyderabad', 'a']\n"
     ]
    }
   ],
   "source": [
    "li1=[1,2,\"Gitam\",199,189.2,\"Hyderabad\",\"a\"]\n",
    "print(li1)"
   ]
  },
  {
   "cell_type": "code",
   "execution_count": 4,
   "metadata": {},
   "outputs": [
    {
     "data": {
      "text/plain": [
       "2"
      ]
     },
     "execution_count": 4,
     "metadata": {},
     "output_type": "execute_result"
    }
   ],
   "source": [
    "li[1]"
   ]
  },
  {
   "cell_type": "code",
   "execution_count": 5,
   "metadata": {},
   "outputs": [
    {
     "name": "stdout",
     "output_type": "stream",
     "text": [
      "1 2 3 4 5 "
     ]
    }
   ],
   "source": [
    "for i in range(len(li)):\n",
    "    print(li[i],end = \" \")"
   ]
  },
  {
   "cell_type": "code",
   "execution_count": 6,
   "metadata": {},
   "outputs": [
    {
     "name": "stdout",
     "output_type": "stream",
     "text": [
      "1 2 3 4 5 6 7 8 9 10 "
     ]
    }
   ],
   "source": [
    "for i in range(1,11):\n",
    "    print(i,end = \" \")"
   ]
  },
  {
   "cell_type": "code",
   "execution_count": 7,
   "metadata": {},
   "outputs": [
    {
     "name": "stdout",
     "output_type": "stream",
     "text": [
      "0 2 4 6 8 10 12 14 16 18 20 22 24 "
     ]
    }
   ],
   "source": [
    "for i in range(0,25,2):\n",
    "    print(i,end = \" \")"
   ]
  }
 ],
 "metadata": {
  "kernelspec": {
   "display_name": "Python 3",
   "language": "python",
   "name": "python3"
  },
  "language_info": {
   "codemirror_mode": {
    "name": "ipython",
    "version": 3
   },
   "file_extension": ".py",
   "mimetype": "text/x-python",
   "name": "python",
   "nbconvert_exporter": "python",
   "pygments_lexer": "ipython3",
   "version": "3.7.0"
  }
 },
 "nbformat": 4,
 "nbformat_minor": 2
}
