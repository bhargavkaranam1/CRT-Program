{
 "cells": [
  {
   "cell_type": "markdown",
   "metadata": {},
   "source": [
    "## Define a program to take input as the range of numbers and give the output as the number of even palindromes"
   ]
  },
  {
   "cell_type": "code",
   "execution_count": null,
   "metadata": {},
   "outputs": [],
   "source": [
    "#include<stdio.h>\n",
    "int isPalindrome(int n)\n",
    "{\n",
    "\tint rev=0,buffer=n;\n",
    "\twhile(n!=0)\n",
    "\t{\n",
    "\t\trev=rev*10+(n%10);\n",
    "\t\tn/=10;\n",
    "\t}\n",
    "\tif (buffer==rev)\n",
    "\t{\n",
    "\t\treturn 1;\n",
    "\t}\n",
    "\telse \n",
    "\t{\n",
    "\t\treturn 0;\n",
    "\t}\n",
    "}\n",
    "int main()\n",
    "{\n",
    "\tint i,a1,a2,res,pCnt=0;\n",
    "\tprintf(\"Enter the Range of values\");\n",
    "\tscanf(\"%d %d\",&a1,&a2);\n",
    "\tfor(i=a1;i<=a2;i++)\n",
    "\t{\n",
    "\t\tif (i%2==0)\n",
    "\t\t{\n",
    "\t\t\tres= isPalindrome(i);\n",
    "\t\t\tif(res==1)\n",
    "\t\t\t{\n",
    "\t\t\t\tpCnt++;\n",
    "\t\t\t}\n",
    "\t\t}\n",
    "\t}\n",
    "\tprintf(\"%d\",pCnt);\n",
    "\treturn 0;\n",
    "}"
   ]
  },
  {
   "cell_type": "markdown",
   "metadata": {},
   "source": [
    "## Define a program to print the output as yes if the individual digit factorial sum is equal to the number else print no"
   ]
  },
  {
   "cell_type": "code",
   "execution_count": null,
   "metadata": {},
   "outputs": [],
   "source": [
    "// \n",
    "#include<stdio.h>\n",
    "int factorial(int x)\n",
    "{\n",
    "\tint i,fact=1;\n",
    "\tfor (i=x;i>0;i--)\n",
    "\t{\n",
    "\t\tfact *=i;\n",
    "\t}\n",
    "\treturn fact;\n",
    "}\n",
    "int main()\n",
    "{\n",
    "\tint n,sum=0,r,buffer;\n",
    "\tprintf(\"Enter the number\");\n",
    "\tscanf(\"%d\",&n);\n",
    "\tbuffer=n;\n",
    "\twhile (n!=0)\n",
    "\t{\n",
    "\t\tr=n%10;\n",
    "\t\tsum = sum + factorial(r);\n",
    "\t    n/=10;\n",
    "\t}\n",
    "\tif(sum==buffer)\n",
    "\t{\n",
    "\t\tprintf(\"Yes\");\n",
    "\t}\n",
    "\telse\n",
    "\t{\n",
    "\t\tprintf(\"No\");\n",
    "\t}\n",
    "\treturn 0;\n",
    "}"
   ]
  },
  {
   "cell_type": "markdown",
   "metadata": {},
   "source": [
    "## Define a program to print the number of perfect numbers in the given range"
   ]
  },
  {
   "cell_type": "code",
   "execution_count": null,
   "metadata": {},
   "outputs": [],
   "source": [
    "#include<stdio.h>\n",
    "int isPerfectNumber(int n)\n",
    "{\n",
    "\tint i,sum=0;\n",
    "\tfor (i=1;i<=(n/2);i++)\n",
    "\t{\n",
    "\t\tif(n%i==0)\n",
    "\t\t{\n",
    "\t\t\tsum=sum+i;\n",
    "\t\t}\n",
    "\t}\n",
    "\tif(sum==n)\n",
    "\t{\n",
    "\t\tprintf(\"The Number is %d \",sum);\n",
    "\t\treturn 1;\n",
    "\t}\n",
    "\telse\n",
    "\t{\n",
    "\t\treturn 0;\n",
    "\t}\n",
    "}\n",
    "int main()\n",
    "{\n",
    "\tint x1,x2,i,res,perfectCnt=0;\n",
    "\tprintf(\"Enter the Numbers\");\n",
    "\tscanf(\"%d%d\",&x1,&x2);\n",
    "\tfor (i=x1;i<=x2;i++)\n",
    "\t{\n",
    "\t\tres=isPerfectNumber(i);\n",
    "\t\tif (res==1)\n",
    "\t\t{\n",
    "\t\t\tperfectCnt++;\n",
    "\t\t}\n",
    "\t}\n",
    "    printf(\"The count is %d \",perfectCnt);\n",
    "    return 0;\n",
    "}"
   ]
  },
  {
   "cell_type": "markdown",
   "metadata": {},
   "source": [
    "## Define a program to print the output as the sum of digits to the power of number of digits"
   ]
  },
  {
   "cell_type": "code",
   "execution_count": null,
   "metadata": {},
   "outputs": [],
   "source": [
    "#include<stdio.h>\n",
    "#include<math.h>\n",
    "\n",
    "int countDigits(int n)\n",
    "{\n",
    "\tint cnt=0;\n",
    "\twhile(n!=0)\n",
    "\t{\n",
    "\t\tcnt++;\n",
    "\t\tn=n/10;\n",
    "\t} \n",
    "    return cnt;\n",
    "}\n",
    "int main()\n",
    "{\n",
    "\tint a,i,sum=0,r,b;\n",
    "\tprintf(\"Enter the number\");\n",
    "\tscanf(\"%d\",&a);\n",
    "\tb=countDigits(a);\n",
    "\twhile (a!=0)\n",
    "\t{\n",
    "\t\tr=a%10;\n",
    "\t\ta=a/10;\n",
    "\t    sum =sum + pow (r,b);\n",
    "\t}\n",
    "    printf(\"%d \",sum);\n",
    "\treturn 0;\n",
    "}"
   ]
  },
  {
   "cell_type": "code",
   "execution_count": null,
   "metadata": {},
   "outputs": [],
   "source": []
  },
  {
   "cell_type": "code",
   "execution_count": null,
   "metadata": {},
   "outputs": [],
   "source": []
  },
  {
   "cell_type": "code",
   "execution_count": null,
   "metadata": {},
   "outputs": [],
   "source": []
  },
  {
   "cell_type": "code",
   "execution_count": null,
   "metadata": {},
   "outputs": [],
   "source": []
  }
 ],
 "metadata": {
  "kernelspec": {
   "display_name": "Python 3",
   "language": "python",
   "name": "python3"
  },
  "language_info": {
   "codemirror_mode": {
    "name": "ipython",
    "version": 3
   },
   "file_extension": ".py",
   "mimetype": "text/x-python",
   "name": "python",
   "nbconvert_exporter": "python",
   "pygments_lexer": "ipython3",
   "version": "3.7.0"
  }
 },
 "nbformat": 4,
 "nbformat_minor": 2
}
