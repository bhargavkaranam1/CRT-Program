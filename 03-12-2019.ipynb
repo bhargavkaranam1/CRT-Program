{
 "cells": [
  {
   "cell_type": "markdown",
   "metadata": {},
   "source": [
    "# Datatypes in Python Programming\n",
    " - class-int float str\n",
    "   - int\n",
    "   - float\n",
    "   - str"
   ]
  },
  {
   "cell_type": "code",
   "execution_count": 7,
   "metadata": {},
   "outputs": [
    {
     "name": "stdout",
     "output_type": "stream",
     "text": [
      "121212121212113112\n",
      "<class 'int'>\n"
     ]
    }
   ],
   "source": [
    "#Runtime Errors\n",
    "x=121212121212113112\n",
    "print(x)\n",
    "print(type(x))"
   ]
  },
  {
   "cell_type": "code",
   "execution_count": 4,
   "metadata": {},
   "outputs": [
    {
     "name": "stdout",
     "output_type": "stream",
     "text": [
      "12.89\n",
      "<class 'float'>\n"
     ]
    }
   ],
   "source": [
    "a=12.89\n",
    "print(a)\n",
    "print(type(a))"
   ]
  },
  {
   "cell_type": "code",
   "execution_count": 6,
   "metadata": {},
   "outputs": [
    {
     "name": "stdout",
     "output_type": "stream",
     "text": [
      "Welcome to Python Programming\n",
      "application\n",
      "<class 'str'>\n",
      "<class 'str'>\n"
     ]
    }
   ],
   "source": [
    "s=\"Welcome to Python Programming\"\n",
    "s1='application'\n",
    "print(s)\n",
    "print(s1)\n",
    "print(type(s))\n",
    "print(type(s1))"
   ]
  },
  {
   "cell_type": "markdown",
   "metadata": {},
   "source": [
    "# Datatype Conversion in Python Programming\n",
    "- int()\n",
    "     \n",
    "       \n",
    "     - int() converts the input into int class\n",
    " \n",
    " - str()\n",
    "     \n",
    "     \n",
    "      - str() converts the input into string class\n",
    " \n",
    " - float()\n",
    "     \n",
    "     \n",
    "      - float() converts the input into float class"
   ]
  },
  {
   "cell_type": "code",
   "execution_count": 8,
   "metadata": {},
   "outputs": [
    {
     "name": "stdout",
     "output_type": "stream",
     "text": [
      "12.34\n",
      "<class 'float'>\n",
      "12\n",
      "<class 'int'>\n"
     ]
    }
   ],
   "source": [
    "f=12.34\n",
    "print(f)\n",
    "print(type(f))\n",
    "x=int(f)\n",
    "print(x)\n",
    "print(type(x))"
   ]
  },
  {
   "cell_type": "code",
   "execution_count": 10,
   "metadata": {},
   "outputs": [
    {
     "name": "stdout",
     "output_type": "stream",
     "text": [
      "25.78 <class 'str'>\n",
      "25.78 <class 'float'>\n",
      "25 <class 'int'>\n"
     ]
    }
   ],
   "source": [
    "x=\"25.78\"\n",
    "print(x,end = ' ')\n",
    "print(type(x))\n",
    "a=float(x)\n",
    "print(a,end = ' ')\n",
    "print(type(a))\n",
    "b=int(a)\n",
    "print(b,end = ' ')\n",
    "print(type(b))"
   ]
  },
  {
   "cell_type": "markdown",
   "metadata": {},
   "source": [
    "# Input Methods of Python\n",
    "- input() reads the input in terms of string type\n",
    "- Use the conversion methods to convert into the rspective type\n",
    "    - like int() float() str()"
   ]
  },
  {
   "cell_type": "code",
   "execution_count": 2,
   "metadata": {},
   "outputs": [
    {
     "name": "stdout",
     "output_type": "stream",
     "text": [
      "Enter your nameBhargava Ram\n",
      "Bhargava Ram\n"
     ]
    }
   ],
   "source": [
    "s=input('Enter your name')\n",
    "print(s)"
   ]
  },
  {
   "cell_type": "code",
   "execution_count": 3,
   "metadata": {},
   "outputs": [
    {
     "name": "stdout",
     "output_type": "stream",
     "text": [
      "Enter your name10\n",
      "10 <class 'str'>\n"
     ]
    }
   ],
   "source": [
    "s=input('Enter your name')\n",
    "print(s,end = ' ')\n",
    "print(type(s))"
   ]
  },
  {
   "cell_type": "code",
   "execution_count": 4,
   "metadata": {},
   "outputs": [
    {
     "name": "stdout",
     "output_type": "stream",
     "text": [
      "10\n",
      "10 <class 'int'>\n"
     ]
    }
   ],
   "source": [
    "a=int(input(''))\n",
    "print(a,end = ' ')\n",
    "print(type(a))"
   ]
  },
  {
   "cell_type": "code",
   "execution_count": 5,
   "metadata": {},
   "outputs": [
    {
     "name": "stdout",
     "output_type": "stream",
     "text": [
      "190\n",
      "190.0 <class 'float'>\n"
     ]
    }
   ],
   "source": [
    "b=float(input(''))\n",
    "print(b,end = ' ')\n",
    "print(type(b))"
   ]
  },
  {
   "cell_type": "markdown",
   "metadata": {},
   "source": [
    "# Control flow statements\n",
    "- Conditional Statements\n",
    "   - if-else\n",
    "- Looping Statements\n",
    "   - while \n",
    "   - for"
   ]
  },
  {
   "cell_type": "code",
   "execution_count": 1,
   "metadata": {},
   "outputs": [
    {
     "name": "stdout",
     "output_type": "stream",
     "text": [
      " 15\n",
      "Odd Number\n"
     ]
    }
   ],
   "source": [
    "# Read the number as input\n",
    "# Give the output as Even or Odd\n",
    "a=int(input(' '))\n",
    "if a % 2== 0 :\n",
    "    print(\"Even Number\")\n",
    "else :\n",
    "    print(\"Odd Number\")\n",
    "    "
   ]
  },
  {
   "cell_type": "code",
   "execution_count": 3,
   "metadata": {},
   "outputs": [],
   "source": [
    "# and, or, not, True, False\n",
    "# Read the age of the person as input\n",
    "# Print the output as whether he is eligible for voting or not\n",
    "# Eligible Range 18-85"
   ]
  },
  {
   "cell_type": "code",
   "execution_count": 4,
   "metadata": {},
   "outputs": [
    {
     "name": "stdout",
     "output_type": "stream",
     "text": [
      " 98\n",
      "The Person is not eligible for voting\n"
     ]
    }
   ],
   "source": [
    "a= int(input(' '))\n",
    "if a>18 and a<85 :\n",
    "    print(\"The Person is eligible for voting\")\n",
    "else :\n",
    "    print(\"The Person is not eligible for voting\")"
   ]
  },
  {
   "cell_type": "code",
   "execution_count": 6,
   "metadata": {},
   "outputs": [
    {
     "name": "stdout",
     "output_type": "stream",
     "text": [
      "3.3333333333333335\n",
      "3\n",
      "1\n",
      "100\n",
      "10000000000\n"
     ]
    }
   ],
   "source": [
    "a=10\n",
    "b=3\n",
    "print(a/b) # Division but output is decimal value\n",
    "print(a//b) # Division but output is only int value\n",
    "print(a%b) # Modular Division output remainder\n",
    "print(a*10)# Multiplication\n",
    "print(a**10)# Power"
   ]
  },
  {
   "cell_type": "code",
   "execution_count": 7,
   "metadata": {},
   "outputs": [
    {
     "name": "stdout",
     "output_type": "stream",
     "text": [
      "Hello\n"
     ]
    }
   ],
   "source": [
    "if True:\n",
    "    print(\"Hello\")\n",
    "else:\n",
    "    print(\"Bye\")"
   ]
  },
  {
   "cell_type": "code",
   "execution_count": 8,
   "metadata": {},
   "outputs": [],
   "source": [
    "# Read the input as two numbers\n",
    "# If the first number is greater than second number then print the square of the second number and vice versa"
   ]
  },
  {
   "cell_type": "code",
   "execution_count": 12,
   "metadata": {},
   "outputs": [
    {
     "name": "stdout",
     "output_type": "stream",
     "text": [
      "Enter the First Number10\n",
      "Enter the Second Number20\n",
      "output 100\n"
     ]
    }
   ],
   "source": [
    "a=int(input('Enter the First Number'))\n",
    "b=int(input('Enter the Second Number'))\n",
    "if a>b:\n",
    "    print(\"output\",b*b)\n",
    "else:\n",
    "    print(\"output\",a*a)"
   ]
  },
  {
   "cell_type": "code",
   "execution_count": 13,
   "metadata": {},
   "outputs": [],
   "source": [
    "# Read the number as input\n",
    "# Give the output as Negative, Positive or Zero"
   ]
  },
  {
   "cell_type": "code",
   "execution_count": 20,
   "metadata": {},
   "outputs": [
    {
     "name": "stdout",
     "output_type": "stream",
     "text": [
      "Enter the Number0\n",
      "Zero\n"
     ]
    }
   ],
   "source": [
    "a=int(input('Enter the Number'))\n",
    "if a>0:\n",
    "    print(\"Positive number\")\n",
    "elif a==0:\n",
    "    print(\"Zero\")\n",
    "elif a<0:\n",
    "    print(\"Negative Number\")"
   ]
  },
  {
   "cell_type": "code",
   "execution_count": 24,
   "metadata": {},
   "outputs": [
    {
     "name": "stdout",
     "output_type": "stream",
     "text": [
      "Good\n"
     ]
    }
   ],
   "source": [
    "a=100\n",
    "if a>10:\n",
    "    print('Good')\n",
    "elif a>20:\n",
    "    print('Better')\n",
    "elif a>30:\n",
    "    print('Best')\n",
    "else:\n",
    "    print('Nothing')"
   ]
  },
  {
   "cell_type": "code",
   "execution_count": 26,
   "metadata": {},
   "outputs": [
    {
     "name": "stdout",
     "output_type": "stream",
     "text": [
      "1 2 3 4 5 6 7 8 9 10 "
     ]
    }
   ],
   "source": [
    "# Print the numbers from 1 to 10\n",
    "a=1\n",
    "while a<=10:\n",
    "    print(a,end = ' ')\n",
    "    a+=1 #a=a+1"
   ]
  },
  {
   "cell_type": "code",
   "execution_count": 27,
   "metadata": {},
   "outputs": [],
   "source": [
    "# Read N as input\n",
    "# Print the sum of N natural numbers as output"
   ]
  },
  {
   "cell_type": "code",
   "execution_count": 14,
   "metadata": {},
   "outputs": [
    {
     "name": "stdout",
     "output_type": "stream",
     "text": [
      "Enter the number5\n",
      "15\n"
     ]
    }
   ],
   "source": [
    "N=int(input(\"Enter the number\"))\n",
    "sum = 0\n",
    "start = 1\n",
    "while start<=N:\n",
    "    sum +=start\n",
    "    start +=1\n",
    "print(sum)"
   ]
  },
  {
   "cell_type": "code",
   "execution_count": 15,
   "metadata": {},
   "outputs": [],
   "source": [
    "# Read the input as N\n",
    "# Print only even numbers between 1 to N"
   ]
  },
  {
   "cell_type": "code",
   "execution_count": 2,
   "metadata": {},
   "outputs": [
    {
     "name": "stdout",
     "output_type": "stream",
     "text": [
      "Enter the number10\n",
      "2 4 6 8 10 "
     ]
    }
   ],
   "source": [
    "N=int(input('Enter the number'))\n",
    "i=1\n",
    "while i<=N:\n",
    "    if i % 2 == 0:\n",
    "      print(i,end = ' ')\n",
    "    i += 1\n",
    "    "
   ]
  },
  {
   "cell_type": "code",
   "execution_count": 8,
   "metadata": {},
   "outputs": [
    {
     "name": "stdout",
     "output_type": "stream",
     "text": [
      "Enter the number6\n",
      "1 2 3 6 "
     ]
    }
   ],
   "source": [
    "N=int(input('Enter the number'))\n",
    "i=1\n",
    "while i<=N:\n",
    "    if N%i==0:\n",
    "     print(i,end = ' ')\n",
    "    i+=1\n",
    "\n",
    "    "
   ]
  }
 ],
 "metadata": {
  "kernelspec": {
   "display_name": "Python 3",
   "language": "python",
   "name": "python3"
  },
  "language_info": {
   "codemirror_mode": {
    "name": "ipython",
    "version": 3
   },
   "file_extension": ".py",
   "mimetype": "text/x-python",
   "name": "python",
   "nbconvert_exporter": "python",
   "pygments_lexer": "ipython3",
   "version": "3.7.3"
  }
 },
 "nbformat": 4,
 "nbformat_minor": 2
}
