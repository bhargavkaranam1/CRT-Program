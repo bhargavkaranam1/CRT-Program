{
 "cells": [
  {
   "cell_type": "markdown",
   "metadata": {},
   "source": [
    "## Define a program to print the output as the square of the 2nd number if the 1st number is larger and vice versa"
   ]
  },
  {
   "cell_type": "code",
   "execution_count": null,
   "metadata": {},
   "outputs": [],
   "source": [
    "#include<stdio.h>\n",
    "int main()\n",
    "{\n",
    "\tint x,y;\n",
    "\tprintf(\"Enter the values of x,y\");\n",
    "\tscanf(\"%d %d\",&x,&y);\n",
    "\tif(x>y)\n",
    "\t{\n",
    "\t\tprintf(\"%d\",y*y);\n",
    "\t}\n",
    "\telse\n",
    "\t{\n",
    "\t\tprintf(\"%d\",x*x);\n",
    "\t}\n",
    "\treturn 0;\n",
    "}"
   ]
  },
  {
   "cell_type": "markdown",
   "metadata": {},
   "source": [
    "## Define a program to take the input as the age of the person and give the output as Eligible or Non-Eligible"
   ]
  },
  {
   "cell_type": "code",
   "execution_count": null,
   "metadata": {},
   "outputs": [],
   "source": [
    "#include<stdio.h>\n",
    "int main()\n",
    "{\n",
    "\tint age;\n",
    "\tprintf(\"Enter the age of the person\");\n",
    "\tscanf(\"%d\",&age);\n",
    "\tif(age>18 && age<85)\n",
    "\t{\n",
    "\t\tprintf(\"The person is elegible for voting\");\n",
    "\t}\n",
    "\telse\n",
    "\t{\n",
    "\t\tprintf(\"The person is not eligible for voting\");\n",
    "\t}\n",
    "\treturn 0;\n",
    "}"
   ]
  },
  {
   "cell_type": "markdown",
   "metadata": {},
   "source": [
    "## Define a program to identify the given input as a upper case character or lower case character or digit"
   ]
  },
  {
   "cell_type": "code",
   "execution_count": null,
   "metadata": {},
   "outputs": [],
   "source": [
    "#include<stdio.h>\n",
    "int main()\n",
    "{\n",
    "\tchar x;\n",
    "\tprintf(\"Enter the input\");\n",
    "\tscanf(\"%c\",&x);\n",
    "\tif (x>=97 && x<=122)\n",
    "\t{\n",
    "\t\tprintf(\"The given input is Lower case\");\n",
    "\t}\n",
    "\telse if (x>=65 && x<=90)\n",
    "\t{\n",
    "\t\tprintf(\"The given input is Upper case\");\n",
    "\t}\n",
    "\telse if (x>=48 && x<=57)\n",
    "\t{\n",
    "\t\tprintf(\"The given input is a Digit\");\n",
    "\t}\n",
    "\treturn 0;\n",
    "}"
   ]
  },
  {
   "cell_type": "markdown",
   "metadata": {},
   "source": [
    "## Define a program to identify a given letter is vowel or consonant"
   ]
  },
  {
   "cell_type": "code",
   "execution_count": null,
   "metadata": {},
   "outputs": [],
   "source": [
    "#include<stdio.h>\n",
    "int main()\n",
    "{\n",
    "\tchar x;\n",
    "\tprintf(\"Enter the letter\");\n",
    "\tscanf(\"%c\",&x);\n",
    "\tif(x=='a'|| x=='A || x=='e'|| x=='E' ||x=='i'||x=='I'|| x=='o'||x=='O'|| x=='u'|| x=='U')\n",
    "\t{\n",
    "\t\tprintf(\"The given input is a Vowel\");\n",
    "\t}\n",
    "\telse\n",
    "\t{\n",
    "\t\tprintf(\"The given input is a consonant\");\n",
    "\t}\n",
    "\treturn 0;\n",
    "}"
   ]
  },
  {
   "cell_type": "markdown",
   "metadata": {},
   "source": [
    "## Define a program to check the divisiblity of a number with 3 and 5"
   ]
  },
  {
   "cell_type": "code",
   "execution_count": null,
   "metadata": {},
   "outputs": [],
   "source": [
    "#include<stdio.h>\n",
    "#include<math.h>\n",
    "int main()\n",
    "{\n",
    "\tint x;\n",
    "\tprintf(\"Enter the Number\");\n",
    "\tscanf(\"%d\",&x);\n",
    "\tif(x%3==0 && x%5==0)\n",
    "\t{\n",
    "\t\tprintf(\"The number is divisible by both 3 and 5\");\n",
    "\t}\n",
    "\telse if(x%3==0)\n",
    "\t{\n",
    "\t\tprintf(\"The number is divisible by 3 but not by 5\");\n",
    "\t \n",
    "\t}\n",
    "\telse if(x%5==0)\n",
    "\t{\n",
    "\t\tprintf(\"The number is divisible by 5 but not by 3\");\n",
    "\t}\n",
    "\treturn 0;\n",
    "}"
   ]
  },
  {
   "cell_type": "markdown",
   "metadata": {},
   "source": [
    "## Define a program to identify the week day by the week number"
   ]
  },
  {
   "cell_type": "code",
   "execution_count": null,
   "metadata": {},
   "outputs": [],
   "source": [
    "#include<stdio.h>\n",
    "int main()\n",
    "{\n",
    "\tint weeknumber;\n",
    "\tprintf(\"Enter the week number\");\n",
    "\tscanf(\"%d\",&weeknumber);\n",
    "\tswitch(weeknumber)\n",
    "\t{\n",
    "\t\tcase 1 :\n",
    "\t\tprintf(\"Sunday\");\n",
    "\t\tbreak;\n",
    "\t\tcase 2 :\n",
    "\t\tprintf(\"Monday\");\n",
    "\t\tbreak;\n",
    "\t\tcase 3 :\n",
    "\t\tprintf(\"Tuesday\");\n",
    "\t\tbreak;\n",
    "\t\tcase 4 : \n",
    "\t\tprintf(\"Wednesday\");\n",
    "\t\tbreak;\n",
    "\t\tcase 5 :\n",
    "\t\tprintf(\"Thursday\");\n",
    "\t\tbreak;\n",
    "\t\tcase 6 : \n",
    "\t\tprintf(\"Friday\");\n",
    "\t\tbreak;\n",
    "\t\tcase 7 : \n",
    "\t\tprintf(\"Saturday\");\n",
    "\t\tbreak;\n",
    "\t\tdefault : \n",
    "\t\tprintf(\"Enter a valid input\");\n",
    "\t\tbreak;\n",
    "\t}\n",
    "\treturn 0;\n",
    "}"
   ]
  },
  {
   "cell_type": "markdown",
   "metadata": {},
   "source": [
    "## Define a program to check the angles to construct a triangle"
   ]
  },
  {
   "cell_type": "code",
   "execution_count": null,
   "metadata": {},
   "outputs": [],
   "source": [
    "#include<stdio.h>\n",
    "int main()\n",
    "{\n",
    "\tint a1,a2,a3;\n",
    "\tprintf(\"Enter the angles\");\n",
    "\tscanf(\"%d %d %d\",&a1,&a2,&a3);\n",
    "\tif(a1>0 && a2>0 && a3>0 && a1+a2+a3==180)\n",
    "\t{\n",
    "\t\tprintf(\"the triangle can be constructed\");\n",
    "\t}\n",
    "\telse\n",
    "\t{\n",
    "\t\tprintf(\"The triangle can't be constructed\");\n",
    "\t } \n",
    "\treturn 0;\n",
    "}"
   ]
  },
  {
   "cell_type": "markdown",
   "metadata": {},
   "source": [
    "## Define a program to read a number and print the natural numbers upto the number"
   ]
  },
  {
   "cell_type": "code",
   "execution_count": 1,
   "metadata": {},
   "outputs": [
    {
     "ename": "SyntaxError",
     "evalue": "invalid syntax (<ipython-input-1-d4de89abfc11>, line 1)",
     "output_type": "error",
     "traceback": [
      "\u001b[1;36m  File \u001b[1;32m\"<ipython-input-1-d4de89abfc11>\"\u001b[1;36m, line \u001b[1;32m1\u001b[0m\n\u001b[1;33m    (/)\u001b[0m\n\u001b[1;37m     ^\u001b[0m\n\u001b[1;31mSyntaxError\u001b[0m\u001b[1;31m:\u001b[0m invalid syntax\n"
     ]
    }
   ],
   "source": [
    "#include<stdio.h>\n",
    "int main()\n",
    "{\n",
    "\tint x,i;\n",
    "\ti=1;\n",
    "\tprintf(\"Enter the numbers to be printed\");\n",
    "\tscanf(\"%d\",&x);\n",
    "\twhile(i<=x)\n",
    "\t{\n",
    "\t\tprintf(\"%d \",i);\n",
    "\t\ti=i+1;\n",
    "\t}\n",
    "\treturn 0;\n",
    "}"
   ]
  },
  {
   "cell_type": "markdown",
   "metadata": {},
   "source": [
    "## Define a program to print the sum of even numbers upto a given number"
   ]
  },
  {
   "cell_type": "code",
   "execution_count": null,
   "metadata": {},
   "outputs": [],
   "source": [
    "#include<stdio.h>\n",
    "int main()\n",
    "{\n",
    "\tint x,i,sum;\n",
    "\ti=1;\n",
    "\tsum=0;\n",
    "\tprintf(\"Enter the number of terms\");\n",
    "\tscanf(\"%d\",&x);\n",
    "\twhile(i<=x)\n",
    "\t{\n",
    "\t\tif(i%2==0)\n",
    "\t\t{\n",
    "\t\t\tsum=sum+i;\n",
    "\t\t}\n",
    "\t\ti++;\n",
    "\t\t\n",
    "\t}\n",
    "\tprintf(\"%d \",sum);\n",
    "\treturn 0;\n",
    "}"
   ]
  },
  {
   "cell_type": "markdown",
   "metadata": {},
   "source": []
  },
  {
   "cell_type": "markdown",
   "metadata": {},
   "source": [
    "## Define a program to chech the divisibility of a number with both 3 and 5"
   ]
  },
  {
   "cell_type": "code",
   "execution_count": 3,
   "metadata": {},
   "outputs": [
    {
     "name": "stdout",
     "output_type": "stream",
     "text": [
      "{1: 5, 2: 3}\n"
     ]
    }
   ],
   "source": [
    "//\n",
    "#include<stdio.h>\n",
    "int main()\n",
    "{\n",
    "\tint x,y,i;\n",
    "\tprintf(\"Enter the numbers\");\n",
    "\tscanf(\"%d %d\",&x,&y);\n",
    "\twhile(x<=y)\n",
    "\t{\n",
    "\t\tif(x%3==0 && x%5==0)\n",
    "\t\t{\n",
    "\t\t\tprintf(\"%d \",x);\n",
    "\t\t}\n",
    "\t\tx++;\n",
    "\t}\n",
    "\treturn 0;\n",
    "\t\n",
    "}"
   ]
  },
  {
   "cell_type": "markdown",
   "metadata": {},
   "source": [
    "## Define a program to extract the digits of a number"
   ]
  },
  {
   "cell_type": "code",
   "execution_count": null,
   "metadata": {},
   "outputs": [],
   "source": [
    "#include<stdio.h>\n",
    "int main()\n",
    "{\n",
    "\tint x,r=0;\n",
    "\tprintf(\"Enter the number\");\n",
    "\tscanf(\"%d\",&x);\n",
    "\twhile(x!=0)\n",
    "\t{\n",
    "\t\tr=x % 10;\n",
    "\t\tx=x / 10;\n",
    "\t\tprintf(\"%d \",r);\n",
    "\t}\n",
    "\treturn 0;\n",
    "}"
   ]
  },
  {
   "cell_type": "markdown",
   "metadata": {},
   "source": [
    "## Define a program to add the even digits of a number"
   ]
  },
  {
   "cell_type": "code",
   "execution_count": null,
   "metadata": {},
   "outputs": [],
   "source": [
    "#include<stdio.h>\n",
    "int main()\n",
    "{\n",
    "\tint x,r=0,sum=0;\n",
    "\tprintf(\"Enter the number\");\n",
    "\tscanf(\"%d\",&x);\n",
    "\twhile(x!=0)\n",
    "\t{\n",
    "\t\tr=x % 10;\n",
    "\t\t\n",
    "\t\tif(r%2==0)\n",
    "\t\t{\n",
    "\t\t\tsum=sum+r;\n",
    "\t\t}\n",
    "\t\tx=x / 10;\n",
    "\t\t\n",
    "\t}\n",
    "\tprintf(\"%d\",sum);\n",
    "\treturn 0;\n",
    "}"
   ]
  },
  {
   "cell_type": "markdown",
   "metadata": {},
   "source": [
    "## Define a program to print the digits of a number"
   ]
  },
  {
   "cell_type": "code",
   "execution_count": null,
   "metadata": {},
   "outputs": [],
   "source": [
    "#include<stdio.h>\n",
    "int main()\n",
    "{\n",
    "\tint x,r=0;\n",
    "\tprintf(\"Enter the number\");\n",
    "\tscanf(\"%d\",&x);\n",
    "\twhile(x!=0)\n",
    "\t{\n",
    "\t\tr=x % 10;\n",
    "\t\tx=x / 10;\n",
    "\t\tswitch(r)\n",
    "\t\t{\n",
    "\t\t\tcase 0 : printf(\"Zero \");\n",
    "\t\t\t\tbreak;\n",
    "\t\t\tcase 1 : printf(\"One \");\n",
    "\t\t\t    break;\n",
    "\t\t\tcase 2 : printf(\"Two \");\n",
    "\t\t\t    break;\n",
    "\t\t\tcase 3 : printf(\"Three \");\n",
    "\t\t\t    break;\n",
    "\t\t\tcase 4 : printf(\"Four \");\n",
    "\t\t\t    break;\n",
    "\t\t\tcase 5 : printf(\"Five \");\n",
    "\t\t\t\tbreak;\n",
    "\t\t\tcase 6 : printf(\"Six \");\n",
    "\t\t\t\tbreak;\n",
    "\t\t\tcase 7 : printf(\"Seven \");\n",
    "\t\t\t\tbreak;\n",
    "\t\t\tcase 8 : printf(\"Eight \");\n",
    "\t\t\t\tbreak;\n",
    "\t\t\tcase 9 : printf(\"Nine \");\n",
    "\t\t\t\tbreak;\t    \n",
    "\t\t}\n",
    "\t}\n",
    "\treturn 0;\n",
    "}"
   ]
  },
  {
   "cell_type": "markdown",
   "metadata": {},
   "source": [
    "## Define a program to print the least and highest digit of a number"
   ]
  },
  {
   "cell_type": "code",
   "execution_count": null,
   "metadata": {},
   "outputs": [],
   "source": [
    "#include<stdio.h>\n",
    "int main()\n",
    "{\n",
    "\tint x,largest=0,r,smallest=9;\n",
    "\tprintf(\"Enter the Number\");\n",
    "\tscanf(\"%d\",&x);\n",
    "\twhile(x!=0)\n",
    "\t{\n",
    "\t\tr= x % 10;\n",
    "\t\tif(largest<r)\n",
    "\t\t{\n",
    "\t\t\tlargest = r;\n",
    "\t    }\n",
    "\t    if(smallest>r)\n",
    "\t    {\n",
    "\t    \tsmallest = r;\n",
    "\t\t}\n",
    "\t   x= x / 10;\n",
    "\t}\n",
    "\tprintf(\"Largest digit is %d\",largest);\n",
    "\tprintf(\" Least digit is %d\",smallest);\n",
    "\treturn 0;\n",
    "\t\n",
    "}"
   ]
  },
  {
   "cell_type": "markdown",
   "metadata": {},
   "source": [
    "## Wipro 30 marks question"
   ]
  },
  {
   "cell_type": "code",
   "execution_count": null,
   "metadata": {},
   "outputs": [],
   "source": [
    "#include<stdio.h>\n",
    "int main()\n",
    "{\n",
    "\tint x,r=0,s=0;\n",
    "\tprintf(\"Enter the number\");\n",
    "\tscanf(\"%d\",&x);\n",
    "\twhile(x!=0)\n",
    "\t{\n",
    "\t\tr=x % 10;\n",
    "\t\tif(r == 8)\n",
    "\t\t{\n",
    "\t\t\ts+=2;\n",
    "\t\t}\n",
    "\t\telse if(r == 0 || r == 6 || r==9 )\n",
    "\t\t{\n",
    "\t\t\ts+=1;\n",
    "\t\t}\n",
    "\t\telse if(r == 4)\n",
    "\t\t{\n",
    "\t\t\ts+=2;\n",
    "\t\t}\n",
    "\t\tx=x / 10;\n",
    "    }\n",
    "    printf(\"%d\",s);\n",
    "    return 0;\n",
    "}"
   ]
  },
  {
   "cell_type": "markdown",
   "metadata": {},
   "source": [
    " ## Define a program to find a number is palindrome or not"
   ]
  },
  {
   "cell_type": "code",
   "execution_count": null,
   "metadata": {},
   "outputs": [],
   "source": [
    "#include<stdio.h>\n",
    "int main()\n",
    "{\n",
    "\tint x,r,p;\n",
    "\tprintf(\"Enter the Number\");\n",
    "\tscanf(\"%d\",&x);\n",
    "\twhile(x!=0)\n",
    "\t{\n",
    "\t\tr=x % 10;\n",
    "\t\tx=x / 10;\n",
    "\t}\n",
    "\tx=p;\n",
    "\tif(r=p)\n",
    "\t{\n",
    "\t\tprintf(\"The number is a Palindrome\");\n",
    "\t}\n",
    "\telse \n",
    "\t{\n",
    "\t\tprintf(\"The number is not a Palindrome\");\n",
    "\t}\n",
    "\treturn 0;\n",
    "}"
   ]
  },
  {
   "cell_type": "code",
   "execution_count": null,
   "metadata": {},
   "outputs": [],
   "source": []
  },
  {
   "cell_type": "markdown",
   "metadata": {},
   "source": []
  }
 ],
 "metadata": {
  "kernelspec": {
   "display_name": "Python 3",
   "language": "python",
   "name": "python3"
  },
  "language_info": {
   "codemirror_mode": {
    "name": "ipython",
    "version": 3
   },
   "file_extension": ".py",
   "mimetype": "text/x-python",
   "name": "python",
   "nbconvert_exporter": "python",
   "pygments_lexer": "ipython3",
   "version": "3.7.0"
  }
 },
 "nbformat": 4,
 "nbformat_minor": 2
}
